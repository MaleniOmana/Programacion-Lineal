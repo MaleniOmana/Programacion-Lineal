{
 "cells": [
  {
   "cell_type": "markdown",
   "metadata": {},
   "source": [
    "# Pregunta 1\n",
    " Resuelve el siguiente problema (cualquier método):\n",
    "   \\begin{equation*}\n",
    "   \\begin{aligned}\n",
    "   \\text{Maximizar} \\quad & x+2y\\\\\n",
    "   \\text{sujeto a} \\quad &\n",
    "     \\begin{aligned}\n",
    "      x &\\geq  0\\\\\n",
    "      y &\\geq 0\\\\\n",
    "      2x+y &\\leq 2\n",
    "     \\end{aligned}\n",
    "   \\end{aligned}\n",
    "   \\end{equation*}"
   ]
  },
  {
   "cell_type": "code",
   "execution_count": 2,
   "metadata": {},
   "outputs": [],
   "source": [
    "from pulp import *\n",
    "\n",
    "x = LpVariable(\"x\", 0, 3)\n",
    "y = LpVariable(\"y\", 0, 1)"
   ]
  },
  {
   "cell_type": "code",
   "execution_count": 4,
   "metadata": {},
   "outputs": [],
   "source": [
    "prob=LpProblem(\"pregunta1\",LpMaximize)\n",
    "prob+=2*x+y <=2\n"
   ]
  },
  {
   "cell_type": "code",
   "execution_count": 5,
   "metadata": {},
   "outputs": [
    {
     "data": {
      "text/plain": [
       "pregunta1:\n",
       "MAXIMIZE\n",
       "1*x + 2*y + 0\n",
       "SUBJECT TO\n",
       "_C1: 2 x + y <= 2\n",
       "\n",
       "VARIABLES\n",
       "x <= 3 Continuous\n",
       "y <= 1 Continuous"
      ]
     },
     "execution_count": 5,
     "metadata": {},
     "output_type": "execute_result"
    }
   ],
   "source": [
    "prob+=x+2*y\n",
    "prob"
   ]
  },
  {
   "cell_type": "code",
   "execution_count": 10,
   "metadata": {},
   "outputs": [],
   "source": [
    "status=prob.solve()"
   ]
  },
  {
   "cell_type": "code",
   "execution_count": 12,
   "metadata": {},
   "outputs": [
    {
     "data": {
      "text/plain": [
       "(0.5, 1.0, 2.5)"
      ]
     },
     "execution_count": 12,
     "metadata": {},
     "output_type": "execute_result"
    }
   ],
   "source": [
    "value(x),value(y),value(prob.objective)"
   ]
  },
  {
   "cell_type": "code",
   "execution_count": 12,
   "metadata": {},
   "outputs": [
    {
     "data": {
      "text/plain": [
       "<matplotlib.collections.PolyCollection at 0x7fad9c13a4e0>"
      ]
     },
     "execution_count": 12,
     "metadata": {},
     "output_type": "execute_result"
    },
    {
     "data": {
      "image/png": "[encoded data removed]",
      "text/plain": [
       "<Figure size 432x288 with 1 Axes>"
      ]
     },
     "metadata": {
      "needs_background": "light"
     },
     "output_type": "display_data"
    }
   ],
   "source": [
    "import numpy as np\n",
    "import matplotlib.pyplot as plt\n",
    "x = np.linspace(0, 20, 2000)\n",
    "y = 2-2*x\n",
    "y1 = (x*0)+0\n",
    "plt.plot(x, y, label=r'$2x+y\\leq0$')\n",
    "\n",
    "plt.xlim((0, 5))\n",
    "plt.ylim((0, 5))\n",
    "y2 = np.maximum(x, y1)\n",
    "y3 = np.maximum(y, y1)\n",
    "\n",
    "plt.fill_between(x, y, y1, where=y>y1, color='grey', alpha=0.5)\n"
   ]
  },
  {
   "cell_type": "markdown",
   "metadata": {},
   "source": [
    "# Pregunta 2  Resuelve el siguiente problema (cualquier método):\n",
    "   \\begin{equation*}\n",
    "    \\begin{aligned}\n",
    "   \\text{Maximizar} \\quad & x_{1}+2x_{2}\\\\\n",
    "   \\text{sujeto a} \\quad &\n",
    "     \\begin{aligned}\n",
    "      3x_{1}+4x_{2} &\\leq 12\\\\\n",
    "      x_{1}-x_{2} &\\leq 2\\\\\n",
    "      -2x_{1}+x_{2} &\\leq 2\\\\\n",
    "       x_{1} &\\geq 0\\\\\n",
    "       x_{2} &\\geq 0\n",
    "     \\end{aligned}\n",
    "   \\end{aligned}\n",
    "   \\end{equation*}"
   ]
  },
  {
   "cell_type": "code",
   "execution_count": 14,
   "metadata": {},
   "outputs": [],
   "source": [
    "from pulp import *\n",
    "\n",
    "x = LpVariable(\"x\", 0, 3)\n",
    "y = LpVariable(\"y\", 0, 3)"
   ]
  },
  {
   "cell_type": "code",
   "execution_count": 17,
   "metadata": {
    "scrolled": true
   },
   "outputs": [],
   "source": [
    "prob=LpProblem(\"pregunta2\",LpMaximize)\n",
    "prob+=3*x+4*y<=12\n",
    "prob+=x-y<=2\n",
    "prob+=(-2*x)+y<=2"
   ]
  },
  {
   "cell_type": "code",
   "execution_count": 18,
   "metadata": {},
   "outputs": [
    {
     "data": {
      "text/plain": [
       "pregunta1:\n",
       "MAXIMIZE\n",
       "1*x + 2*y + 0\n",
       "SUBJECT TO\n",
       "_C1: 3 x + 4 y <= 12\n",
       "\n",
       "_C2: x - y <= 2\n",
       "\n",
       "_C3: - 2 x + y <= 2\n",
       "\n",
       "VARIABLES\n",
       "x <= 3 Continuous\n",
       "y <= 3 Continuous"
      ]
     },
     "execution_count": 18,
     "metadata": {},
     "output_type": "execute_result"
    }
   ],
   "source": [
    "prob+=x+2*y\n",
    "prob"
   ]
  },
  {
   "cell_type": "code",
   "execution_count": 19,
   "metadata": {},
   "outputs": [
    {
     "data": {
      "text/plain": [
       "(0.36363636, 2.7272727, 5.81818176)"
      ]
     },
     "execution_count": 19,
     "metadata": {},
     "output_type": "execute_result"
    }
   ],
   "source": [
    "status=prob.solve()\n",
    "value(x),value(y),value(prob.objective)\n"
   ]
  },
  {
   "cell_type": "code",
   "execution_count": 33,
   "metadata": {},
   "outputs": [
    {
     "data": {
      "text/plain": [
       "<matplotlib.collections.PolyCollection at 0x7fad9bc27320>"
      ]
     },
     "execution_count": 33,
     "metadata": {},
     "output_type": "execute_result"
    },
    {
     "data": {
      "image/png": "[encoded data removed]",
      "text/plain": [
       "<Figure size 432x288 with 1 Axes>"
      ]
     },
     "metadata": {
      "needs_background": "light"
     },
     "output_type": "display_data"
    }
   ],
   "source": [
    "import numpy as np\n",
    "import matplotlib.pyplot as plt\n",
    "x = np.linspace(0, 20, 2000)\n",
    "y2 = (12-3*x)/4\n",
    "y3 = x-2\n",
    "y4= 2+2*x\n",
    "plt.plot(x, y2, label=r'$3x+4y\\leq12$')\n",
    "plt.plot(x, y3, label=r'$x-y\\leq2$')\n",
    "plt.plot(x, y4, label=r'$-2x+y\\leq2$')\n",
    "plt.xlim((0, 5))\n",
    "plt.ylim((0, 5))\n",
    "y5 = np.minimum(y2, y4)\n",
    "plt.fill_between(x, y5, y3, where=y5>y3, color='grey', alpha=0.5)\n",
    "\n"
   ]
  },
  {
   "cell_type": "markdown",
   "metadata": {},
   "source": [
    "# Pregunta 3 Resuelve el siguiente problema (cualquier método):\n",
    "   \\begin{equation*}\n",
    "   \\begin{aligned}\n",
    "   \\text{Maximizar} \\quad & 4x_{1}+x_{2}+3x_{3}\\\\\n",
    "   \\text{sujeto a} \\quad &\n",
    "     \\begin{aligned}\n",
    "      x_{1} & \\leq 3\\\\\n",
    "      x_{2} &\\leq 5\\\\\n",
    "      x_{3} &\\leq 2\\\\\n",
    "      x_{1}+x_{2}+2x_{3} &\\leq 10\\\\\n",
    "      x_{1},x_{2},x_{3} &\\geq 0\n",
    "     \\end{aligned}\n",
    "   \\end{aligned}\n",
    "   \\end{equation*}"
   ]
  },
  {
   "cell_type": "code",
   "execution_count": 30,
   "metadata": {},
   "outputs": [],
   "source": [
    "from pulp import *\n",
    "\n",
    "x = LpVariable(\"x\", 0, 3)\n",
    "y = LpVariable(\"y\", 0, 3)\n",
    "z = LpVariable(\"z\", 0 ,3)"
   ]
  },
  {
   "cell_type": "code",
   "execution_count": 31,
   "metadata": {},
   "outputs": [],
   "source": [
    "prob=LpProblem(\"pregunta3\",LpMaximize)\n",
    "prob+=x<=3\n",
    "prob+=y<=5\n",
    "prob+=z<=2\n",
    "prob+=x+y+2*z<=10"
   ]
  },
  {
   "cell_type": "code",
   "execution_count": 22,
   "metadata": {},
   "outputs": [
    {
     "data": {
      "text/plain": [
       "pregunta1:\n",
       "MAXIMIZE\n",
       "4*x + 1*y + 3*z + 0\n",
       "SUBJECT TO\n",
       "_C1: x <= 3\n",
       "\n",
       "_C2: y <= 5\n",
       "\n",
       "_C3: z <= 2\n",
       "\n",
       "_C4: x + y + 2 z <= 10\n",
       "\n",
       "VARIABLES\n",
       "x <= 3 Continuous\n",
       "y <= 3 Continuous\n",
       "z <= 3 Continuous"
      ]
     },
     "execution_count": 22,
     "metadata": {},
     "output_type": "execute_result"
    }
   ],
   "source": [
    "prob+=4*x+y+3*z\n",
    "prob"
   ]
  },
  {
   "cell_type": "code",
   "execution_count": 23,
   "metadata": {},
   "outputs": [
    {
     "data": {
      "text/plain": [
       "(3.0, 3.0, 2.0, 21.0)"
      ]
     },
     "execution_count": 23,
     "metadata": {},
     "output_type": "execute_result"
    }
   ],
   "source": [
    "status=prob.solve()\n",
    "value(x),value(y),value(z),value(prob.objective)"
   ]
  },
  {
   "cell_type": "markdown",
   "metadata": {},
   "source": [
    "# Pregunta 4\n",
    "Un gerente está planeando cómo distribuir la producción de tres\n",
    "   productos entre dos máquinas. Para ser manufacturado cada producto\n",
    "   requiere cierto tiempo (en horas) en cada una de las máquinas.\n",
    "\n",
    "   El tiempo requerido está resumido en la siguiente tabla:\n",
    "\n",
    "   \n",
    "   | Producto/Máquina | 1 | 2 |\n",
    "   |-----------------:|--:|--:|\n",
    "   | A                | 1 | 1 |\n",
    "   | B                | 2 | 1 |\n",
    "   | C                | 2 | 2 |\n",
    "   \n",
    "\n",
    "   La máquina 1 está disponible 40 horas a la semana y la 2 está\n",
    "   disponible 34 horas a la semana.\n",
    "\n",
    "   Si la utilidad obtenida al vender los productos A, B y C es de 2, 3\n",
    "   y 5 pesos por unidad, respectivamente, ¿cuál debe ser la producción\n",
    "   semanal que maximiza la utilidad? ¿Cuál es la utilidad máxima?"
   ]
  },
  {
   "cell_type": "code",
   "execution_count": 32,
   "metadata": {},
   "outputs": [],
   "source": [
    "from pulp import *\n",
    "\n",
    "x = LpVariable(\"x\", 0)\n",
    "y = LpVariable(\"y\", 0)\n",
    "z = LpVariable(\"z\", 0)"
   ]
  },
  {
   "cell_type": "code",
   "execution_count": 33,
   "metadata": {},
   "outputs": [],
   "source": [
    "prob=LpProblem(\"pregunta4\",LpMaximize)\n",
    "prob+=x+2*y+2*z <=40\n",
    "prob+=x+y+2*z <=34\n"
   ]
  },
  {
   "cell_type": "code",
   "execution_count": 34,
   "metadata": {},
   "outputs": [
    {
     "data": {
      "text/plain": [
       "pregunta4:\n",
       "MAXIMIZE\n",
       "2*x + 3*y + 5*z + 0\n",
       "SUBJECT TO\n",
       "_C1: x + 2 y + 2 z <= 40\n",
       "\n",
       "_C2: x + y + 2 z <= 34\n",
       "\n",
       "VARIABLES\n",
       "x Continuous\n",
       "y Continuous\n",
       "z Continuous"
      ]
     },
     "execution_count": 34,
     "metadata": {},
     "output_type": "execute_result"
    }
   ],
   "source": [
    "prob+=2*x+3*y+5*z\n",
    "prob"
   ]
  },
  {
   "cell_type": "code",
   "execution_count": 35,
   "metadata": {},
   "outputs": [
    {
     "data": {
      "text/plain": [
       "(0.0, 6.0, 14.0, 88.0)"
      ]
     },
     "execution_count": 35,
     "metadata": {},
     "output_type": "execute_result"
    }
   ],
   "source": [
    "status=prob.solve()\n",
    "value(x),value(y),value(z),value(prob.objective)"
   ]
  },
  {
   "cell_type": "code",
   "execution_count": 38,
   "metadata": {},
   "outputs": [
    {
     "data": {
      "text/plain": [
       "[<matplotlib.lines.Line2D at 0x7f5a117bc630>]"
      ]
     },
     "execution_count": 38,
     "metadata": {},
     "output_type": "execute_result"
    },
    {
     "data": {
      "image/png": "[encoded data removed]",
      "text/plain": [
       "<Figure size 432x288 with 1 Axes>"
      ]
     },
     "metadata": {
      "needs_background": "light"
     },
     "output_type": "display_data"
    }
   ],
   "source": [
    "import numpy as np\n",
    "import matplotlib.pyplot as plt\n",
    "%matplotlib inline\n",
    "\n",
    "x=np.linspace(0,1,200)\n",
    "y=2-2*x\n",
    "plt.plot(x,y, label=r'$2x+y\\leq2$')"
   ]
  },
  {
   "cell_type": "markdown",
   "metadata": {},
   "source": [
    "# Pregunta 5 Demuestra que el conjunto \\(\\{(x,y)\\mid x\\geq 0\\}\\subseteq\n",
    "   \\mathbb{R}^{2}\\) es convexo."
   ]
  },
  {
   "cell_type": "code",
   "execution_count": null,
   "metadata": {},
   "outputs": [],
   "source": []
  }
 ],
 "metadata": {
  "kernelspec": {
   "display_name": "Python 3",
   "language": "python",
   "name": "python3"
  },
  "language_info": {
   "codemirror_mode": {
    "name": "ipython",
    "version": 3
   },
   "file_extension": ".py",
   "mimetype": "text/x-python",
   "name": "python",
   "nbconvert_exporter": "python",
   "pygments_lexer": "ipython3",
   "version": "3.7.2"
  }
 },
 "nbformat": 4,
 "nbformat_minor": 2
}
